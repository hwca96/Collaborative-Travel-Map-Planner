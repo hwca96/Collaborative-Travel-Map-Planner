{
 "cells": [
  {
   "cell_type": "code",
   "execution_count": 2,
   "metadata": {},
   "outputs": [],
   "source": [
    "import json"
   ]
  },
  {
   "cell_type": "code",
   "execution_count": 8,
   "metadata": {},
   "outputs": [
    {
     "name": "stdout",
     "output_type": "stream",
     "text": [
      "{'wLon': -123.111056, 'wLat': 49.288788, 'pid': 1, 'index': 1, 'dbID': 'wIc8PtgfZF', 'Poiname': 'Canada Place', 'Address': '999 Canada Pl, Vancouver, BC V6C 3T4', 'Description': 'An iconic national landmark welcoming local residents, visitors and ships to the West Coast. Opened in 1986 as the Canada Pavilion for Expo 86, it has since become a national icon and a hub of activity on Vancouver’s waterfront.', 'customType': 'poi-attraction', 'customTag': ['Free Attraction']}\n"
     ]
    }
   ],
   "source": [
    "with open(\"vancouver_attractions.json\", encoding=\"utf8\") as f:\n",
    "    data = json.load(f)\n",
    "    print(data['poi'][0])"
   ]
  },
  {
   "cell_type": "code",
   "execution_count": 9,
   "metadata": {},
   "outputs": [],
   "source": [
    "import sqlite3"
   ]
  },
  {
   "cell_type": "code",
   "execution_count": null,
   "metadata": {},
   "outputs": [],
   "source": []
  }
 ],
 "metadata": {
  "kernelspec": {
   "display_name": ".venv",
   "language": "python",
   "name": "python3"
  },
  "language_info": {
   "codemirror_mode": {
    "name": "ipython",
    "version": 3
   },
   "file_extension": ".py",
   "mimetype": "text/x-python",
   "name": "python",
   "nbconvert_exporter": "python",
   "pygments_lexer": "ipython3",
   "version": "3.11.3"
  },
  "orig_nbformat": 4
 },
 "nbformat": 4,
 "nbformat_minor": 2
}
