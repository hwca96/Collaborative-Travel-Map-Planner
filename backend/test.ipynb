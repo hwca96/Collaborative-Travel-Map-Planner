{
 "cells": [
  {
   "cell_type": "code",
   "execution_count": 1,
   "metadata": {},
   "outputs": [],
   "source": [
    "import database_helper\n",
    "from datetime import datetime"
   ]
  },
  {
   "cell_type": "code",
   "execution_count": 2,
   "metadata": {},
   "outputs": [],
   "source": [
    "from Trip import Trip"
   ]
  },
  {
   "cell_type": "code",
   "execution_count": 5,
   "metadata": {},
   "outputs": [
    {
     "name": "stdout",
     "output_type": "stream",
     "text": [
      "Trip 1 test trip None None 2023-06-07 14:30:58.713613\n",
      "Attract 1 Canada Place poi-attraction 49.288788 -123.111056 999 Canada Pl, Vancouver, BC V6C 3T4 An iconic national landmark welcoming local residents, visitors and ships to the West Coast. Opened in 1986 as the Canada Pavilion for Expo 86, it has since become a national icon and a hub of activity on Vancouver’s waterfront.\n",
      "Comment 1 1 Must go to this place\n",
      "Vote 1 1 10\n",
      "Attract 2 Capilano Suspension Bridge poi-attraction 49.3428322 -123.1147535 3735 Capilano Rd, North Vancouver, BC V7R 4J1 Canada 3735 Capilano Rd, North Vancouver, BC V7R 4J1 Canada\n",
      "Attract 3 Vancouver Aquarium poi-attraction 49.300571532170515 -123.13081204891205 845 Avison Way, Vancouver, BC V6G 3E2 Canada 845 Avison Way, Vancouver, BC V6G 3E2 Canada\n",
      "Attract 4 Harbour Cruises poi-attraction 49.294438 -123.132968 501 Denman St, Vancouver, BC V6G 2W9 Canada 501 Denman St, Vancouver, BC V6G 2W9 Canada\n",
      "Attract 5 Vancouver Art Gallery poi-attraction 49.282944 -123.120491 750 Hornby St, Vancouver, BC V6Z 2H7 Canada 750 Hornby St, Vancouver, BC V6Z 2H7 Canada\n",
      "Attract 6 BC Sports Hall of Fame   poi-attraction 49.277496044201094 -123.11218422291022 777 Pacific Blvd, Vancouver, BC V6B 4Y8, Canada None\n",
      "Attract 7 Gray Line Westcoast Sightseeing poi-attraction 49.28810239920313 -123.11480293156285 Downtown Canada Place, Vancouver, BC V6C 3E2, Canada 999 Canada Place, Vancouver, BC V6C 3T4\n",
      "Attract 8 FlyOver Canada poi-attraction 49.28890402827178 -123.11033070087433 999 Canada Pl, Vancouver, BC V6C 3E1 Canada 999 Canada Pl, Vancouver, BC V6C 3E1 Canada\n",
      "Attract 9 Museum of North Vancouver poi-attraction 49.3112261 -123.0805377 115 Esplanade W, North Vancouver, BC V7M 1A1, Canada \n",
      "Attract 10 Science World poi-attraction 49.27332789342083 -123.10390949249268 1455 Quebec Street, Vancouver, BC V6A 3Z7 Canada 1455 Quebec Street, Vancouver, BC V6A 3Z7 Canada\n",
      "User 1 Owner Harvey harvey@email.com\n"
     ]
    }
   ],
   "source": [
    "t = Trip(1)\n",
    "print(\"Trip\", t.id, t.name, t.start_date, t.end_date, t.created_date)\n",
    "for a in t.attractions:\n",
    "    print(\"Attract\", a.id, a.name, a.type, a.lat, a.lon, a.address, a.description)\n",
    "    for c in a.comments:\n",
    "        print(\"Comment\", c.id, c.userId, c.text)\n",
    "    for v in a.votes:\n",
    "        print(\"Vote\", v.id, v.userId, v.starValue)\n",
    "for u in t.users:\n",
    "    print(\"User\", u.id, u.role, u.name, u.email)"
   ]
  },
  {
   "cell_type": "code",
   "execution_count": null,
   "metadata": {},
   "outputs": [],
   "source": []
  }
 ],
 "metadata": {
  "kernelspec": {
   "display_name": ".venv",
   "language": "python",
   "name": "python3"
  },
  "language_info": {
   "codemirror_mode": {
    "name": "ipython",
    "version": 3
   },
   "file_extension": ".py",
   "mimetype": "text/x-python",
   "name": "python",
   "nbconvert_exporter": "python",
   "pygments_lexer": "ipython3",
   "version": "3.11.3"
  },
  "orig_nbformat": 4
 },
 "nbformat": 4,
 "nbformat_minor": 2
}
